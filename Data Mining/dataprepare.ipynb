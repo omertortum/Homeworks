{
 "cells": [
  {
   "cell_type": "code",
   "execution_count": null,
   "metadata": {},
   "outputs": [],
   "source": [
    "with open(\"dataset.txt\") as f:\n",
    "    content = f.readlines()\n",
    "# you may also want to remove whitespace characters like `\\n` at the end of each line\n",
    "content = [x.strip() for x in content] "
   ]
  },
  {
   "cell_type": "code",
   "execution_count": null,
   "metadata": {},
   "outputs": [],
   "source": [
    "content = [x.split() for x in content] "
   ]
  },
  {
   "cell_type": "code",
   "execution_count": null,
   "metadata": {},
   "outputs": [],
   "source": [
    "content = [x[:-1] for x in content] "
   ]
  },
  {
   "cell_type": "code",
   "execution_count": null,
   "metadata": {},
   "outputs": [],
   "source": [
    "for i in range(len(content)):\n",
    "    for j in range(len(content[i])):\n",
    "        content[i][j] = content[i][j].replace(\":1\",\"\") "
   ]
  },
  {
   "cell_type": "code",
   "execution_count": null,
   "metadata": {},
   "outputs": [],
   "source": [
    "for i in range(len(content)):\n",
    "    for j in range(len(content[i])):\n",
    "        content[i][j] = int(content[i][j])"
   ]
  },
  {
   "cell_type": "code",
   "execution_count": null,
   "metadata": {},
   "outputs": [],
   "source": [
    "y = []\n",
    "for x in content:\n",
    "    y.append(max(x))"
   ]
  },
  {
   "cell_type": "code",
   "execution_count": null,
   "metadata": {},
   "outputs": [],
   "source": [
    "#Maksimum attribute sayısı\n",
    "max(y)"
   ]
  },
  {
   "cell_type": "code",
   "execution_count": null,
   "metadata": {},
   "outputs": [],
   "source": [
    "with open(\"Output.txt\", \"w\") as text_file:\n",
    "    print(\"@RELATION detectMalicious\", file=text_file)\n",
    "\n",
    "    for i in range(1,532):\n",
    "        print(\"@ATTRIBUTE {}, NUMERIC\".format(i), file=text_file)\n",
    "    print(\"@ATTRIBUTE class, {MALICIOUS,NON-MALICIOUS}\\n@DATA\", file=text_file)\n",
    "    for each in range(len(content)):\n",
    "        string = \"\"\n",
    "        for i in range(1,532):\n",
    "            if i in content[each][1:]:\n",
    "                string += \"1,\"\n",
    "            else:\n",
    "                string += \"0,\"\n",
    "        if (content[each][0] == -1):\n",
    "            string += \"MALICIOUS\"\n",
    "        else:\n",
    "            string += \"NON-MALICIOUS\"\n",
    "        print(string, file=text_file)"
   ]
  },
  {
   "cell_type": "code",
   "execution_count": null,
   "metadata": {},
   "outputs": [],
   "source": [
    "with open(\"Tst.txt\") as f:\n",
    "    content_test = f.readlines()\n",
    "# you may also want to remove whitespace characters like `\\n` at the end of each line\n",
    "content_test = [x.strip() for x in content_test]"
   ]
  },
  {
   "cell_type": "code",
   "execution_count": null,
   "metadata": {},
   "outputs": [],
   "source": [
    "content_test = [x.split() for x in content_test] "
   ]
  },
  {
   "cell_type": "code",
   "execution_count": null,
   "metadata": {},
   "outputs": [],
   "source": [
    "content_test = [x[:-1] for x in content_test] "
   ]
  },
  {
   "cell_type": "code",
   "execution_count": null,
   "metadata": {},
   "outputs": [],
   "source": [
    "for i in range(len(content_test)):\n",
    "    for j in range(len(content_test[i])):\n",
    "        content_test[i][j] = content_test[i][j].replace(\":1\",\"\")"
   ]
  },
  {
   "cell_type": "code",
   "execution_count": null,
   "metadata": {},
   "outputs": [],
   "source": [
    "for i in range(len(content_test)):\n",
    "    for j in range(len(content_test[i])):\n",
    "        content_test[i][j] = int(content_test[i][j])"
   ]
  },
  {
   "cell_type": "code",
   "execution_count": null,
   "metadata": {},
   "outputs": [],
   "source": [
    "content_test"
   ]
  },
  {
   "cell_type": "code",
   "execution_count": null,
   "metadata": {},
   "outputs": [],
   "source": [
    "with open(\"Output_test.txt\", \"w\") as text_file:\n",
    "    print(\"@RELATION detectMalicious\", file=text_file)\n",
    "\n",
    "    for i in range(1,532):\n",
    "        print(\"@ATTRIBUTE {}, NUMERIC\".format(i), file=text_file)\n",
    "    print(\"@ATTRIBUTE class, {MALICIOUS,NON-MALICIOUS}\\n@DATA\", file=text_file)\n",
    "    for each in range(len(content_test)):\n",
    "        string = \"\"\n",
    "        for i in range(1,532):\n",
    "            if i in content_test[each][1:]:\n",
    "                string += \"1,\"\n",
    "            else:\n",
    "                string += \"0,\"\n",
    "        if (content_test[each][0] == -1):\n",
    "            string += \"MALICIOUS\"\n",
    "        else:\n",
    "            string += \"NON-MALICIOUS\"\n",
    "        print(string, file=text_file)"
   ]
  },
  {
   "cell_type": "code",
   "execution_count": null,
   "metadata": {},
   "outputs": [],
   "source": []
  }
 ],
 "metadata": {
  "kernelspec": {
   "display_name": "Python 3",
   "language": "python",
   "name": "python3"
  },
  "language_info": {
   "codemirror_mode": {
    "name": "ipython",
    "version": 3
   },
   "file_extension": ".py",
   "mimetype": "text/x-python",
   "name": "python",
   "nbconvert_exporter": "python",
   "pygments_lexer": "ipython3",
   "version": "3.7.3"
  }
 },
 "nbformat": 4,
 "nbformat_minor": 2
}
